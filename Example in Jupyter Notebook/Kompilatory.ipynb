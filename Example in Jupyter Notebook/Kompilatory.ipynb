{
 "cells": [
  {
   "cell_type": "code",
   "execution_count": 20,
   "id": "c0255520-c8d0-462c-8e2f-afaf289a84c1",
   "metadata": {},
   "outputs": [],
   "source": [
    "import pandas as pd"
   ]
  },
  {
   "cell_type": "code",
   "execution_count": 21,
   "id": "7fa7a7a2-a32d-4ef7-a1d9-b887c0508d2d",
   "metadata": {},
   "outputs": [],
   "source": [
    "df1 = pd.read_json(\"proj3_data1.json\")\n",
    "df_more = pd.read_json(\"proj3_more_data.json\")"
   ]
  },
  {
   "cell_type": "markdown",
   "id": "42ad302f-d7ca-4a0a-a038-ea514fcc59f9",
   "metadata": {},
   "source": [
    "**PRZYKŁADY**\n",
    "Skopiuj poniższe przykłady do translatora aby przetestować jego działanie."
   ]
  },
  {
   "cell_type": "markdown",
   "id": "19df6098-9033-461d-b291-a6282db215f7",
   "metadata": {},
   "source": [
    "SELECT * FROM df1"
   ]
  },
  {
   "cell_type": "code",
   "execution_count": null,
   "id": "3dc50282-8b13-4084-9dad-40cf7710f995",
   "metadata": {},
   "outputs": [],
   "source": []
  },
  {
   "cell_type": "markdown",
   "id": "b234f49c-54ac-4da6-b5c0-3b83bd35e8d6",
   "metadata": {},
   "source": [
    "SELECT model, body_type FROM df1"
   ]
  },
  {
   "cell_type": "code",
   "execution_count": null,
   "id": "4d756ffe-cf57-45b4-ae44-2e55782aa609",
   "metadata": {},
   "outputs": [],
   "source": []
  },
  {
   "cell_type": "markdown",
   "id": "2e0fa769-83a2-48b9-866b-432083b19eb2",
   "metadata": {},
   "source": [
    "SELECT * FROM df1 WHERE top_speed > 200"
   ]
  },
  {
   "cell_type": "code",
   "execution_count": null,
   "id": "b1d532e2-55bc-458a-b7aa-2ffdc310ff87",
   "metadata": {},
   "outputs": [],
   "source": []
  },
  {
   "cell_type": "markdown",
   "id": "74771794-66af-4e39-bf49-ad1e338fc380",
   "metadata": {},
   "source": [
    "SELECT body_type, MAX(top_speed) FROM df1 GROUP BY body_type"
   ]
  },
  {
   "cell_type": "code",
   "execution_count": null,
   "id": "71a64757-6d8d-43e1-a01e-dd6809273dc7",
   "metadata": {},
   "outputs": [],
   "source": []
  },
  {
   "cell_type": "markdown",
   "id": "2d631c58-35b2-4704-bdc4-b80839c3ee62",
   "metadata": {},
   "source": [
    "SELECT * FROM df_more"
   ]
  },
  {
   "cell_type": "code",
   "execution_count": null,
   "id": "741d3a41-a6f5-4e58-bb53-ae433cff4fcd",
   "metadata": {},
   "outputs": [],
   "source": []
  },
  {
   "cell_type": "markdown",
   "id": "09dbae35-4ab7-4b33-834c-67780c434677",
   "metadata": {},
   "source": [
    "SELECT * FROM df1 LEFT JOIN df_more USING engine"
   ]
  },
  {
   "cell_type": "code",
   "execution_count": null,
   "id": "5b32bccf-1165-4956-88cb-32d71942dadf",
   "metadata": {},
   "outputs": [],
   "source": []
  },
  {
   "cell_type": "markdown",
   "id": "28674e56-5fa1-4ae8-8bd8-4960b15dc3ae",
   "metadata": {},
   "source": [
    "SELECT * FROM df_more ORDERBY displacement DESC"
   ]
  },
  {
   "cell_type": "code",
   "execution_count": null,
   "id": "98b85de1-c258-430d-9d12-6957d9febbc3",
   "metadata": {},
   "outputs": [],
   "source": []
  }
 ],
 "metadata": {
  "kernelspec": {
   "display_name": "Python 3 (ipykernel)",
   "language": "python",
   "name": "python3"
  },
  "language_info": {
   "codemirror_mode": {
    "name": "ipython",
    "version": 3
   },
   "file_extension": ".py",
   "mimetype": "text/x-python",
   "name": "python",
   "nbconvert_exporter": "python",
   "pygments_lexer": "ipython3",
   "version": "3.12.1"
  }
 },
 "nbformat": 4,
 "nbformat_minor": 5
}
